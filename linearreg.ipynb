{
 "cells": [
  {
   "cell_type": "code",
   "execution_count": null,
   "id": "8be56a83",
   "metadata": {},
   "outputs": [
    {
     "name": "stdout",
     "output_type": "stream",
     "text": [
      "Predicted value for 65: 189.45892404844594\n"
     ]
    }
   ],
   "source": [
    "import numpy as np\n",
    "from sklearn.neural_network import MLPRegressor\n",
    "import matplotlib.pyplot as plt\n",
    "import networkx as nx \n",
    "#dataset\n",
    "x=np.array([50,60,70,80]).reshape(-1, 1) #x=np.array([50,60,70,80])\n",
    "y=np.array([150,180,210,250]).reshape(-1,1)\n",
    "#train the model\n",
    "from sklearn.preprocessing import StandardScaler        \n",
    "\n",
    "scaler_x = StandardScaler()                             \n",
    "scaler_y = StandardScaler()                             \n",
    "\n",
    "x_scaled = scaler_x.fit_transform(x)                    \n",
    "y_scaled = scaler_y.fit_transform(y)                    \n",
    "\n",
    "#model=MLPRegressor(hidden_layer_sizes=(2,), max_iter=2000, random_state=1)\n",
    "#model=MLPRegressor(hidden_layer_sizes=(2, ),max_iter=200,random_state=1)\n",
    "model = MLPRegressor(hidden_layer_sizes=(2,), max_iter=5000, random_state=1)  \n",
    "model.fit(x_scaled, y_scaled.ravel())                                         \n",
    "\n",
    "#model.fit(x,y)\n",
    "#model.predict([[65]])\n",
    "x_test_scaled = scaler_x.transform([[65]])               \n",
    "y_pred_scaled = model.predict(x_test_scaled)             \n",
    "y_pred = scaler_y.inverse_transform(y_pred_scaled.reshape(-1, 1))  \n",
    "\n",
    "print(\"Predicted value for 65:\", y_pred[0][0])          \n"
   ]
  }
 ],
 "metadata": {
  "kernelspec": {
   "display_name": "Python 3",
   "language": "python",
   "name": "python3"
  },
  "language_info": {
   "codemirror_mode": {
    "name": "ipython",
    "version": 3
   },
   "file_extension": ".py",
   "mimetype": "text/x-python",
   "name": "python",
   "nbconvert_exporter": "python",
   "pygments_lexer": "ipython3",
   "version": "3.13.5"
  }
 },
 "nbformat": 4,
 "nbformat_minor": 5
}
